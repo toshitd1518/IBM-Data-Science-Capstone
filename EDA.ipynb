{
 "cells": [
  {
   "cell_type": "code",
   "execution_count": 1,
   "id": "6f87f462-b8be-494a-8bcf-cd234edf9696",
   "metadata": {},
   "outputs": [
    {
     "name": "stdout",
     "output_type": "stream",
     "text": [
      "Collecting sqlalchemy==1.3.9\n",
      "  Downloading SQLAlchemy-1.3.9.tar.gz (6.0 MB)\n",
      "     ---------------------------------------- 0.0/6.0 MB ? eta -:--:--\n",
      "     ---------------------------------------- 0.0/6.0 MB ? eta -:--:--\n",
      "     --- ------------------------------------ 0.5/6.0 MB 2.4 MB/s eta 0:00:03\n",
      "     ------- -------------------------------- 1.0/6.0 MB 2.3 MB/s eta 0:00:03\n",
      "     ---------- ----------------------------- 1.6/6.0 MB 2.2 MB/s eta 0:00:02\n",
      "     -------------- ------------------------- 2.1/6.0 MB 2.3 MB/s eta 0:00:02\n",
      "     ----------------- ---------------------- 2.6/6.0 MB 2.4 MB/s eta 0:00:02\n",
      "     ------------------- -------------------- 2.9/6.0 MB 2.4 MB/s eta 0:00:02\n",
      "     ---------------------- ----------------- 3.4/6.0 MB 2.2 MB/s eta 0:00:02\n",
      "     -------------------------- ------------- 3.9/6.0 MB 2.3 MB/s eta 0:00:01\n",
      "     ----------------------------- ---------- 4.5/6.0 MB 2.3 MB/s eta 0:00:01\n",
      "     --------------------------------- ------ 5.0/6.0 MB 2.3 MB/s eta 0:00:01\n",
      "     ----------------------------------- ---- 5.2/6.0 MB 2.3 MB/s eta 0:00:01\n",
      "     -------------------------------------- - 5.8/6.0 MB 2.3 MB/s eta 0:00:01\n",
      "     ---------------------------------------- 6.0/6.0 MB 2.3 MB/s eta 0:00:00\n",
      "  Preparing metadata (setup.py): started\n",
      "  Preparing metadata (setup.py): finished with status 'done'\n",
      "Building wheels for collected packages: sqlalchemy\n",
      "  Building wheel for sqlalchemy (setup.py): started\n",
      "  Building wheel for sqlalchemy (setup.py): finished with status 'done'\n",
      "  Created wheel for sqlalchemy: filename=SQLAlchemy-1.3.9-cp312-cp312-win_amd64.whl size=1142950 sha256=b50f3477f8a34fcb33fa655d6d387a8f4bb1980c7a7c9127ef74878a6ab6a847\n",
      "  Stored in directory: c:\\users\\acer\\appdata\\local\\pip\\cache\\wheels\\b3\\1c\\42\\0e26b8d512adc6bce10ff71a05229366b4ccec641cd3b42111\n",
      "Successfully built sqlalchemy\n",
      "Installing collected packages: sqlalchemy\n",
      "  Attempting uninstall: sqlalchemy\n",
      "    Found existing installation: SQLAlchemy 2.0.34\n",
      "    Uninstalling SQLAlchemy-2.0.34:\n",
      "      Successfully uninstalled SQLAlchemy-2.0.34\n",
      "Successfully installed sqlalchemy-1.3.9\n"
     ]
    },
    {
     "name": "stderr",
     "output_type": "stream",
     "text": [
      "ERROR: pip's dependency resolver does not currently take into account all the packages that are installed. This behaviour is the source of the following dependency conflicts.\n",
      "aext-project-filebrowser-server 4.1.0 requires sqlalchemy>=2.0.29, but you have sqlalchemy 1.3.9 which is incompatible.\n"
     ]
    },
    {
     "name": "stdout",
     "output_type": "stream",
     "text": [
      "Collecting ibm_db_sa\n",
      "  Downloading ibm_db_sa-0.4.1-py3-none-any.whl.metadata (5.3 kB)\n",
      "Requirement already satisfied: sqlalchemy>=0.7.3 in c:\\users\\acer\\anaconda3\\lib\\site-packages (from ibm_db_sa) (1.3.9)\n",
      "Collecting ibm-db>=2.0.0 (from ibm_db_sa)\n",
      "  Downloading ibm_db-3.2.5-cp312-cp312-win_amd64.whl.metadata (32 kB)\n",
      "Downloading ibm_db_sa-0.4.1-py3-none-any.whl (31 kB)\n",
      "Downloading ibm_db-3.2.5-cp312-cp312-win_amd64.whl (28.0 MB)\n",
      "   ---------------------------------------- 0.0/28.0 MB ? eta -:--:--\n",
      "   ---------------------------------------- 0.3/28.0 MB ? eta -:--:--\n",
      "   - -------------------------------------- 0.8/28.0 MB 2.6 MB/s eta 0:00:11\n",
      "   - -------------------------------------- 1.3/28.0 MB 2.6 MB/s eta 0:00:11\n",
      "   -- ------------------------------------- 1.8/28.0 MB 2.6 MB/s eta 0:00:11\n",
      "   --- ------------------------------------ 2.4/28.0 MB 2.6 MB/s eta 0:00:10\n",
      "   ---- ----------------------------------- 2.9/28.0 MB 2.5 MB/s eta 0:00:10\n",
      "   ---- ----------------------------------- 3.4/28.0 MB 2.5 MB/s eta 0:00:10\n",
      "   ----- ---------------------------------- 3.9/28.0 MB 2.5 MB/s eta 0:00:10\n",
      "   ------ --------------------------------- 4.5/28.0 MB 2.5 MB/s eta 0:00:10\n",
      "   ------- -------------------------------- 5.0/28.0 MB 2.5 MB/s eta 0:00:10\n",
      "   ------- -------------------------------- 5.5/28.0 MB 2.5 MB/s eta 0:00:10\n",
      "   -------- ------------------------------- 6.0/28.0 MB 2.5 MB/s eta 0:00:09\n",
      "   --------- ------------------------------ 6.6/28.0 MB 2.5 MB/s eta 0:00:09\n",
      "   ---------- ----------------------------- 7.1/28.0 MB 2.5 MB/s eta 0:00:09\n",
      "   ---------- ----------------------------- 7.6/28.0 MB 2.4 MB/s eta 0:00:09\n",
      "   ----------- ---------------------------- 7.9/28.0 MB 2.4 MB/s eta 0:00:09\n",
      "   ------------ --------------------------- 8.4/28.0 MB 2.4 MB/s eta 0:00:09\n",
      "   ------------ --------------------------- 8.9/28.0 MB 2.4 MB/s eta 0:00:08\n",
      "   ------------- -------------------------- 9.4/28.0 MB 2.4 MB/s eta 0:00:08\n",
      "   -------------- ------------------------- 10.0/28.0 MB 2.4 MB/s eta 0:00:08\n",
      "   --------------- ------------------------ 10.5/28.0 MB 2.4 MB/s eta 0:00:08\n",
      "   --------------- ------------------------ 10.7/28.0 MB 2.4 MB/s eta 0:00:08\n",
      "   ---------------- ----------------------- 11.3/28.0 MB 2.4 MB/s eta 0:00:07\n",
      "   ---------------- ----------------------- 11.8/28.0 MB 2.4 MB/s eta 0:00:07\n",
      "   ----------------- ---------------------- 12.3/28.0 MB 2.4 MB/s eta 0:00:07\n",
      "   ------------------ --------------------- 12.8/28.0 MB 2.4 MB/s eta 0:00:07\n",
      "   ------------------- -------------------- 13.4/28.0 MB 2.4 MB/s eta 0:00:07\n",
      "   ------------------- -------------------- 13.9/28.0 MB 2.4 MB/s eta 0:00:06\n",
      "   -------------------- ------------------- 14.4/28.0 MB 2.4 MB/s eta 0:00:06\n",
      "   --------------------- ------------------ 14.9/28.0 MB 2.4 MB/s eta 0:00:06\n",
      "   ---------------------- ----------------- 15.5/28.0 MB 2.4 MB/s eta 0:00:06\n",
      "   ---------------------- ----------------- 16.0/28.0 MB 2.4 MB/s eta 0:00:05\n",
      "   ----------------------- ---------------- 16.5/28.0 MB 2.4 MB/s eta 0:00:05\n",
      "   ------------------------ --------------- 16.8/28.0 MB 2.4 MB/s eta 0:00:05\n",
      "   ------------------------ --------------- 17.3/28.0 MB 2.4 MB/s eta 0:00:05\n",
      "   ------------------------- -------------- 17.8/28.0 MB 2.4 MB/s eta 0:00:05\n",
      "   -------------------------- ------------- 18.4/28.0 MB 2.4 MB/s eta 0:00:05\n",
      "   --------------------------- ------------ 18.9/28.0 MB 2.4 MB/s eta 0:00:04\n",
      "   --------------------------- ------------ 19.4/28.0 MB 2.4 MB/s eta 0:00:04\n",
      "   ---------------------------- ----------- 19.9/28.0 MB 2.4 MB/s eta 0:00:04\n",
      "   ----------------------------- ---------- 20.4/28.0 MB 2.4 MB/s eta 0:00:04\n",
      "   ----------------------------- ---------- 20.7/28.0 MB 2.4 MB/s eta 0:00:04\n",
      "   ------------------------------ --------- 21.2/28.0 MB 2.4 MB/s eta 0:00:03\n",
      "   ------------------------------- -------- 21.8/28.0 MB 2.4 MB/s eta 0:00:03\n",
      "   ------------------------------- -------- 22.3/28.0 MB 2.4 MB/s eta 0:00:03\n",
      "   -------------------------------- ------- 22.8/28.0 MB 2.4 MB/s eta 0:00:03\n",
      "   --------------------------------- ------ 23.3/28.0 MB 2.4 MB/s eta 0:00:02\n",
      "   ---------------------------------- ----- 23.9/28.0 MB 2.4 MB/s eta 0:00:02\n",
      "   ---------------------------------- ----- 24.1/28.0 MB 2.4 MB/s eta 0:00:02\n",
      "   ---------------------------------- ----- 24.4/28.0 MB 2.4 MB/s eta 0:00:02\n",
      "   ----------------------------------- ---- 24.9/28.0 MB 2.4 MB/s eta 0:00:02\n",
      "   ------------------------------------ --- 25.4/28.0 MB 2.4 MB/s eta 0:00:02\n",
      "   ------------------------------------- -- 26.0/28.0 MB 2.3 MB/s eta 0:00:01\n",
      "   ------------------------------------- -- 26.5/28.0 MB 2.3 MB/s eta 0:00:01\n",
      "   -------------------------------------- - 26.7/28.0 MB 2.3 MB/s eta 0:00:01\n",
      "   ---------------------------------------  27.3/28.0 MB 2.3 MB/s eta 0:00:01\n",
      "   ---------------------------------------  27.8/28.0 MB 2.3 MB/s eta 0:00:01\n",
      "   ---------------------------------------- 28.0/28.0 MB 2.3 MB/s eta 0:00:00\n",
      "Installing collected packages: ibm-db, ibm_db_sa\n",
      "Successfully installed ibm-db-3.2.5 ibm_db_sa-0.4.1\n",
      "Collecting ipython-sql\n",
      "  Downloading ipython_sql-0.5.0-py3-none-any.whl.metadata (17 kB)\n",
      "Collecting prettytable (from ipython-sql)\n",
      "  Downloading prettytable-3.12.0-py3-none-any.whl.metadata (30 kB)\n",
      "Requirement already satisfied: ipython in c:\\users\\acer\\anaconda3\\lib\\site-packages (from ipython-sql) (8.27.0)\n",
      "Collecting sqlalchemy>=2.0 (from ipython-sql)\n",
      "  Downloading SQLAlchemy-2.0.37-cp312-cp312-win_amd64.whl.metadata (9.9 kB)\n",
      "Collecting sqlparse (from ipython-sql)\n",
      "  Downloading sqlparse-0.5.3-py3-none-any.whl.metadata (3.9 kB)\n",
      "Requirement already satisfied: six in c:\\users\\acer\\anaconda3\\lib\\site-packages (from ipython-sql) (1.16.0)\n",
      "Requirement already satisfied: ipython-genutils in c:\\users\\acer\\anaconda3\\lib\\site-packages (from ipython-sql) (0.2.0)\n",
      "Requirement already satisfied: greenlet!=0.4.17 in c:\\users\\acer\\anaconda3\\lib\\site-packages (from sqlalchemy>=2.0->ipython-sql) (3.0.1)\n",
      "Requirement already satisfied: typing-extensions>=4.6.0 in c:\\users\\acer\\anaconda3\\lib\\site-packages (from sqlalchemy>=2.0->ipython-sql) (4.11.0)\n",
      "Requirement already satisfied: decorator in c:\\users\\acer\\anaconda3\\lib\\site-packages (from ipython->ipython-sql) (5.1.1)\n",
      "Requirement already satisfied: jedi>=0.16 in c:\\users\\acer\\anaconda3\\lib\\site-packages (from ipython->ipython-sql) (0.19.1)\n",
      "Requirement already satisfied: matplotlib-inline in c:\\users\\acer\\anaconda3\\lib\\site-packages (from ipython->ipython-sql) (0.1.6)\n",
      "Requirement already satisfied: prompt-toolkit<3.1.0,>=3.0.41 in c:\\users\\acer\\anaconda3\\lib\\site-packages (from ipython->ipython-sql) (3.0.43)\n",
      "Requirement already satisfied: pygments>=2.4.0 in c:\\users\\acer\\anaconda3\\lib\\site-packages (from ipython->ipython-sql) (2.15.1)\n",
      "Requirement already satisfied: stack-data in c:\\users\\acer\\anaconda3\\lib\\site-packages (from ipython->ipython-sql) (0.2.0)\n",
      "Requirement already satisfied: traitlets>=5.13.0 in c:\\users\\acer\\anaconda3\\lib\\site-packages (from ipython->ipython-sql) (5.14.3)\n",
      "Requirement already satisfied: colorama in c:\\users\\acer\\anaconda3\\lib\\site-packages (from ipython->ipython-sql) (0.4.6)\n",
      "Requirement already satisfied: wcwidth in c:\\users\\acer\\anaconda3\\lib\\site-packages (from prettytable->ipython-sql) (0.2.5)\n",
      "Requirement already satisfied: parso<0.9.0,>=0.8.3 in c:\\users\\acer\\anaconda3\\lib\\site-packages (from jedi>=0.16->ipython->ipython-sql) (0.8.3)\n",
      "Requirement already satisfied: executing in c:\\users\\acer\\anaconda3\\lib\\site-packages (from stack-data->ipython->ipython-sql) (0.8.3)\n",
      "Requirement already satisfied: asttokens in c:\\users\\acer\\anaconda3\\lib\\site-packages (from stack-data->ipython->ipython-sql) (2.0.5)\n",
      "Requirement already satisfied: pure-eval in c:\\users\\acer\\anaconda3\\lib\\site-packages (from stack-data->ipython->ipython-sql) (0.2.2)\n",
      "Downloading ipython_sql-0.5.0-py3-none-any.whl (20 kB)\n",
      "Downloading SQLAlchemy-2.0.37-cp312-cp312-win_amd64.whl (2.1 MB)\n",
      "   ---------------------------------------- 0.0/2.1 MB ? eta -:--:--\n",
      "   ---- ----------------------------------- 0.3/2.1 MB ? eta -:--:--\n",
      "   -------------- ------------------------- 0.8/2.1 MB 2.2 MB/s eta 0:00:01\n",
      "   ------------------- -------------------- 1.0/2.1 MB 2.3 MB/s eta 0:00:01\n",
      "   ----------------------------- ---------- 1.6/2.1 MB 2.3 MB/s eta 0:00:01\n",
      "   ---------------------------------------- 2.1/2.1 MB 2.3 MB/s eta 0:00:00\n",
      "Downloading prettytable-3.12.0-py3-none-any.whl (31 kB)\n",
      "Downloading sqlparse-0.5.3-py3-none-any.whl (44 kB)\n",
      "Installing collected packages: sqlparse, sqlalchemy, prettytable, ipython-sql\n",
      "  Attempting uninstall: sqlalchemy\n",
      "    Found existing installation: SQLAlchemy 1.3.9\n",
      "    Uninstalling SQLAlchemy-1.3.9:\n",
      "      Successfully uninstalled SQLAlchemy-1.3.9\n",
      "Successfully installed ipython-sql-0.5.0 prettytable-3.12.0 sqlalchemy-2.0.37 sqlparse-0.5.3\n"
     ]
    }
   ],
   "source": [
    "!pip install sqlalchemy==1.3.9\n",
    "!pip install ibm_db_sa\n",
    "!pip install ipython-sql"
   ]
  },
  {
   "cell_type": "code",
   "execution_count": 21,
   "id": "faaf8e1b-99ed-4e54-903d-e08f6f41a5e6",
   "metadata": {},
   "outputs": [
    {
     "name": "stdout",
     "output_type": "stream",
     "text": [
      "The sql extension is already loaded. To reload it, use:\n",
      "  %reload_ext sql\n"
     ]
    }
   ],
   "source": [
    "%load_ext sql"
   ]
  },
  {
   "cell_type": "code",
   "execution_count": 17,
   "id": "c35e3c9f-b1e8-47d5-9120-063550763dc6",
   "metadata": {},
   "outputs": [],
   "source": [
    "#jdbc:db2://fbd88901-ebdb-4a4f-a32e-9822b9fb237b.c1ogj3sd0tgtu0lqde00.databases.appdomain.cloud:32731/bludb:user=<user name>;password=<your_password>;sslConnection=true;"
   ]
  },
  {
   "cell_type": "code",
   "execution_count": 25,
   "id": "9afe964a-e29b-4d3a-8f2a-b3c59fa21083",
   "metadata": {},
   "outputs": [],
   "source": [
    "#%sql ibm_db_sa://npj88637:U2doAY3Ir4HXvGQh@fbd88901-ebdb-4a4f-a32e-9822b9fb237b.c1ogj3sd0tgtu0lqde00.databases.appdomain.cloud:32731/admin?security=SSL"
   ]
  },
  {
   "cell_type": "code",
   "execution_count": 7,
   "id": "fa2682da-613a-48c1-9290-cb883726d519",
   "metadata": {},
   "outputs": [],
   "source": [
    "##Task 1 Display the names of the unique launch sites in the space mission##"
   ]
  },
  {
   "cell_type": "code",
   "execution_count": 23,
   "id": "98df161d-4935-436d-9fa0-5240f72bbd7e",
   "metadata": {},
   "outputs": [],
   "source": [
    "sql SELECT DISTINCT LAUNCH_SITE FROM SPACEXTBL ORDER BY 1;"
   ]
  },
  {
   "cell_type": "markdown",
   "id": "a9c4687d-ed36-434f-a80d-56d1b35a56af",
   "metadata": {},
   "source": [
    "launch_site\n",
    "CCAFS LC-40\n",
    "CCAFS SLC-40\n",
    "KSC LC-39A\n",
    "VAFB SLC-4E"
   ]
  },
  {
   "cell_type": "code",
   "execution_count": 1,
   "id": "e45b9260-6c49-41f9-bc35-4df112cc548a",
   "metadata": {},
   "outputs": [],
   "source": [
    "##Task 2 Display 5 records where launch sites begin with the string 'CCA'\n"
   ]
  },
  {
   "cell_type": "code",
   "execution_count": 5,
   "id": "b8841b90-8c22-4468-8b59-df447ba9cd29",
   "metadata": {},
   "outputs": [],
   "source": [
    "sql SELECT * FROM SPACEXTBL WHERE LAUNCH_SITE LIKE 'CCA%' LIMIT 5;"
   ]
  },
  {
   "cell_type": "code",
   "execution_count": null,
   "id": "4da4c810-e2db-4393-bb7a-77d2d23c9e90",
   "metadata": {},
   "outputs": [],
   "source": [
    "DATE\t    time__utc_\tbooster_version\tlaunch_site\tpayload\t                             payload_mass__kg_\torbit\t    customer\tmission_outcome\tlanding__outcome\n",
    "2010-06-04\t18:45:00\tF9 v1.0 B0003\tCCAFS LC-40\tDragon Spacecraft Qualification Unit\t0\t              LEO\t  SpaceX\t    Success\t        Failure (parachute)\n",
    "2010-12-08\t15:43:00\tF9 v1.0 B0004\tCCAFS LC-40\tDragon demo flight C1, \n",
    "                                                    two CubeSats, barrel of Brouere cheese\t0\t           LEO (ISS)  NASA (COTS)NROSuccess\t        Failure (parachute)\n",
    "2012-05-22\t07:44:00\tF9 v1.0 B0005\tCCAFS LC-40\tDragon demo flight C2\t              525              LEO (ISS)  NASA (COTS)\tSuccess      \tNo attempt\n",
    "2012-10-08\t00:35:00\tF9 v1.0 B0006\tCCAFS LC-40\tSpaceX CRS-1\t                      500              LEO (ISS)  NASA (CRS)\tSuccess     \tNo attempt\n",
    "2013-03-01\t15:10:00\tF9 v1.0 B0007\tCCAFS LC-40\tSpaceX CRS-2\t                      677\t           LEO (ISS)  NASA (CRS)\tSuccess     \tNo attempt\n"
   ]
  },
  {
   "cell_type": "code",
   "execution_count": 7,
   "id": "e8f02eae-26e0-4a89-a5af-739a2f012f6d",
   "metadata": {},
   "outputs": [],
   "source": [
    "##Task 3 Display the total payload mass carried by boosters launched by NASA (CRS)"
   ]
  },
  {
   "cell_type": "code",
   "execution_count": 9,
   "id": "41e7897e-dcfb-4b7d-89de-59fd1d1d69f2",
   "metadata": {},
   "outputs": [],
   "source": [
    "sql SELECT SUM(PAYLOAD_MASS__KG_) AS TOTAL_PAYLOAD FROM SPACEXTBL WHERE PAYLOAD  LIKE '%CRS%';"
   ]
  },
  {
   "cell_type": "code",
   "execution_count": null,
   "id": "216a2995-d0a2-4580-af94-488471cc8ab9",
   "metadata": {},
   "outputs": [],
   "source": [
    "total_payload\n",
    "111268"
   ]
  },
  {
   "cell_type": "code",
   "execution_count": null,
   "id": "bb0d548b-8eff-40a9-9c98-e6e952ad809e",
   "metadata": {},
   "outputs": [],
   "source": [
    "##Task 4 Display average payload mass carried by booster version F9 v1.1"
   ]
  },
  {
   "cell_type": "code",
   "execution_count": 11,
   "id": "943ad3f6-deb0-4b9f-846d-0aff62880bf6",
   "metadata": {},
   "outputs": [],
   "source": [
    "sql SELECT AVG(PAYLOAD_MASS__KG_) AS AVG_PAYLOAD FROM SPACEXTBL WHERE BOOSTER_VERSION = 'F9 v1.1';"
   ]
  },
  {
   "cell_type": "code",
   "execution_count": null,
   "id": "ca176b22-79c5-4a83-a408-b6342a866214",
   "metadata": {},
   "outputs": [],
   "source": [
    "avg_payload\n",
    "2928"
   ]
  },
  {
   "cell_type": "code",
   "execution_count": null,
   "id": "d7e4e3e9-94ff-410d-a8a9-779f907ae5bc",
   "metadata": {},
   "outputs": [],
   "source": [
    "##Task 5 List the date when the first successful landing outcome in ground pad was acheived."
   ]
  },
  {
   "cell_type": "code",
   "execution_count": 15,
   "id": "853350b5-0670-466e-ab37-abc7ee53dadf",
   "metadata": {},
   "outputs": [],
   "source": [
    "sql SELECT MIN(DATE) AS FIRST_SUCCESS_GP FROM SPACEXTBL WHERE LANDING__OUTCOME = 'Success (ground pad)';"
   ]
  },
  {
   "cell_type": "code",
   "execution_count": null,
   "id": "9e36ed74-33d5-48a9-8fb4-3a2ba9925f09",
   "metadata": {},
   "outputs": [],
   "source": [
    "first_success_gp\n",
    "2015-12-22"
   ]
  },
  {
   "cell_type": "code",
   "execution_count": null,
   "id": "8d10a642-267f-422d-87ce-67b7d72a33dd",
   "metadata": {},
   "outputs": [],
   "source": [
    "##Task 6 List the names of the boosters which have success in drone ship and have payload mass greater than 4000 but less than 6000"
   ]
  },
  {
   "cell_type": "code",
   "execution_count": null,
   "id": "d2f97459-01f1-40e4-8bd6-fbda29cfc3f9",
   "metadata": {},
   "outputs": [],
   "source": [
    "sql SELECT DISTINCT BOOSTER_VERSION FROM SPACEXTBL WHERE PAYLOAD_MASS__KG_ BETWEEN 4000 AND 6000 AND LANDING__OUTCOME = 'Success (drone ship)';"
   ]
  },
  {
   "cell_type": "code",
   "execution_count": null,
   "id": "d5ffbd03-de1f-4427-a04e-b78f4a78eca1",
   "metadata": {},
   "outputs": [],
   "source": [
    "booster_version\n",
    "F9 FT B1021.2\n",
    "F9 FT B1031.2\n",
    "F9 FT B1022\n",
    "F9 FT B1026"
   ]
  },
  {
   "cell_type": "code",
   "execution_count": 17,
   "id": "10d3c79a-3ca9-4d9a-bf7d-54721612ffc2",
   "metadata": {},
   "outputs": [],
   "source": [
    "##Task 7 List the total number of successful and failure mission outcomes"
   ]
  },
  {
   "cell_type": "code",
   "execution_count": 19,
   "id": "5740b183-962a-4fd5-8774-f39a8d06983a",
   "metadata": {},
   "outputs": [],
   "source": [
    "sql SELECT MISSION_OUTCOME, COUNT(*) AS QTY FROM SPACEXTBL GROUP BY MISSION_OUTCOME ORDER BY MISSION_OUTCOME;"
   ]
  },
  {
   "cell_type": "code",
   "execution_count": null,
   "id": "a7882c83-63ff-44dd-98a9-9fb5499db5fb",
   "metadata": {},
   "outputs": [],
   "source": [
    "mission_outcome\tqty\n",
    "Failure (in flight)             \t1\n",
    "Success\t                           99\n",
    "Success (payload status unclear)\t1"
   ]
  },
  {
   "cell_type": "code",
   "execution_count": 21,
   "id": "6ea74afc-31c9-446e-bb57-fd416ed6a09a",
   "metadata": {},
   "outputs": [],
   "source": [
    "##Task 8 List the names of the booster_versions which have carried the maximum payload mass. Use a subquery"
   ]
  },
  {
   "cell_type": "code",
   "execution_count": 23,
   "id": "f3d0957c-f908-4a23-8cf1-0455fba20b0a",
   "metadata": {},
   "outputs": [],
   "source": [
    "sql SELECT DISTINCT BOOSTER_VERSION FROM SPACEXTBL WHERE PAYLOAD_MASS__KG_ = (SELECT MAX(PAYLOAD_MASS__KG_) FROM SPACEXTBL) ORDER BY BOOSTER_VERSION;"
   ]
  },
  {
   "cell_type": "code",
   "execution_count": null,
   "id": "f432afc7-974b-4594-b0f5-16ab4f8b7804",
   "metadata": {},
   "outputs": [],
   "source": [
    "booster_version\n",
    "F9 B5 B1048.4\n",
    "F9 B5 B1048.5\n",
    "F9 B5 B1049.4\n",
    "F9 B5 B1049.5\n",
    "F9 B5 B1049.7\n",
    "F9 B5 B1051.3\n",
    "F9 B5 B1051.4\n",
    "F9 B5 B1051.6\n",
    "F9 B5 B1056.4\n",
    "F9 B5 B1058.3\n",
    "F9 B5 B1060.2\n",
    "F9 B5 B1060.3\n"
   ]
  },
  {
   "cell_type": "code",
   "execution_count": null,
   "id": "abeb7a76-8e25-4b34-b270-3a58e41c735d",
   "metadata": {},
   "outputs": [],
   "source": [
    "##Task 9 List the failed landing_outcomes in drone ship, their booster versions, and launch site names for in year 2015"
   ]
  },
  {
   "cell_type": "code",
   "execution_count": 25,
   "id": "53fcd5f9-50fe-41f4-b22b-810b1debc28a",
   "metadata": {},
   "outputs": [],
   "source": [
    "sql SELECT BOOSTER_VERSION, LAUNCH_SITE FROM SPACEXTBL WHERE LANDING__OUTCOME = 'Failure (drone ship)' AND DATE_PART('YEAR', DATE) = 2015;"
   ]
  },
  {
   "cell_type": "code",
   "execution_count": null,
   "id": "67776b68-f016-421e-a0ae-867c201d5088",
   "metadata": {},
   "outputs": [],
   "source": [
    "booster_version\tlaunch_site\n",
    "F9 v1.1 B1012\tCCAFS LC-40\n",
    "F9 v1.1 B1015\tCCAFS LC-40"
   ]
  },
  {
   "cell_type": "code",
   "execution_count": 27,
   "id": "dbb4dbde-ece9-41f8-8481-a5cb86b7b52d",
   "metadata": {},
   "outputs": [],
   "source": [
    "##Task 10 Rank the count of landing outcomes (such as Failure (drone ship) or Success (ground pad)) between the date 2010-06-04 and 2017-03-20, in descending order"
   ]
  },
  {
   "cell_type": "code",
   "execution_count": 29,
   "id": "e1d19db3-0cb9-4609-98a1-83affb2704fa",
   "metadata": {},
   "outputs": [],
   "source": [
    "sql SELECT LANDING__OUTCOME, COUNT(*) AS QTY FROM SPACEXTBL WHERE DATE BETWEEN '2010-06-04' AND '2017-03-20' GROUP BY LANDING__OUTCOME ORDER BY QTY DESC;"
   ]
  },
  {
   "cell_type": "code",
   "execution_count": null,
   "id": "f625041e-b8b3-4d82-89e3-072461e45dc6",
   "metadata": {},
   "outputs": [],
   "source": [
    "landing__outcome\t  qty\n",
    "No attempt\t           10\n",
    "Failure (drone ship)\t5\n",
    "Success (drone ship)\t5\n",
    "Controlled (ocean)\t    3\n",
    "Success (ground pad)\t3\n",
    "Failure (parachute)\t    2\n",
    "Uncontrolled (ocean)\t2\n",
    "Precluded (drone ship)\t1\n"
   ]
  }
 ],
 "metadata": {
  "kernelspec": {
   "display_name": "Python [conda env:base] *",
   "language": "python",
   "name": "conda-base-py"
  },
  "language_info": {
   "codemirror_mode": {
    "name": "ipython",
    "version": 3
   },
   "file_extension": ".py",
   "mimetype": "text/x-python",
   "name": "python",
   "nbconvert_exporter": "python",
   "pygments_lexer": "ipython3",
   "version": "3.12.7"
  }
 },
 "nbformat": 4,
 "nbformat_minor": 5
}
